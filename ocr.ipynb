{
 "cells": [
  {
   "cell_type": "code",
   "id": "initial_id",
   "metadata": {
    "collapsed": true,
    "ExecuteTime": {
     "end_time": "2024-10-18T18:27:11.049640Z",
     "start_time": "2024-10-18T18:27:10.495433Z"
    }
   },
   "source": [
    "from azure.core.credentials import AzureKeyCredential\n",
    "from azure.ai.formrecognizer import DocumentAnalysisClient\n",
    "\n",
    "endpoint = \"https://ocr-grad.cognitiveservices.azure.com/\"\n",
    "key = \"8b11f3e44f464ab9a4ef07f3f03e6d0e\"\n",
    "\n",
    "document_analysis_client = DocumentAnalysisClient(\n",
    "    endpoint=endpoint, credential=AzureKeyCredential(key)\n",
    ")"
   ],
   "outputs": [],
   "execution_count": 1
  },
  {
   "metadata": {
    "ExecuteTime": {
     "end_time": "2024-10-18T18:28:19.114006Z",
     "start_time": "2024-10-18T18:28:15.021596Z"
    }
   },
   "cell_type": "code",
   "source": [
    "formUrl = \"https://raw.githubusercontent.com/Azure-Samples/cognitive-services-REST-api-samples/master/curl/form-recognizer/sample-layout.pdf\"\n",
    "poller = document_analysis_client.begin_analyze_document_from_url(\"prebuilt-layout\", formUrl)\n",
    "result = poller.result()"
   ],
   "id": "addbaeafe429434a",
   "outputs": [],
   "execution_count": 2
  },
  {
   "metadata": {
    "ExecuteTime": {
     "end_time": "2024-10-18T18:28:36.621786Z",
     "start_time": "2024-10-18T18:28:36.616660Z"
    }
   },
   "cell_type": "code",
   "source": "result.content",
   "id": "2ddc6d2a7b024254",
   "outputs": [
    {
     "data": {
      "text/plain": [
       "'UNITED STATES SECURITIES AND EXCHANGE COMMISSION Washington, D.C. 20549\\nFORM 10-Q :selected: ☒ QUARTERLY REPORT PURSUANT TO SECTION 13 OR 15(d) OF THE SECURITIES EXCHANGE ACT OF 1934\\nFor the Quarterly Period Ended March 31, 2020\\nOR :unselected:\\n☐ TRANSITION REPORT PURSUANT TO SECTION 13 OR 15(d) OF THE SECURITIES EXCHANGE ACT OF 1934\\nFor the Transition Period From\\nto\\nCommission File Number 001-37845\\nMICROSOFT CORPORATION\\nWASHINGTON (STATE OF INCORPORATION)\\n91-1144442\\n(I.R.S. ID)\\nONE MICROSOFT WAY, REDMOND, WASHINGTON 98052-6399 (425) 882-8080 www.microsoft.com/investor\\nSecurities registered pursuant to Section 12(b) of the Act:\\nTitle of each class\\nTrading Symbol\\nName of exchange on which registered\\nCommon stock, $0.00000625 par value per share\\nMSFT\\nNASDAQ\\n2.125% Notes due 2021\\nMSFT\\nNASDAQ\\n3.125% Notes due 2028\\nMSFT\\nNASDAQ\\n2.625% Notes due 2033\\nMSFT\\nNASDAQ\\nSecurities registered pursuant to Section 12(g) of the Act:\\nNONE\\nIndicate by check mark whether the registrant (1) has filed all reports required to be filed by Section 13 or 15(d) of the Securities Exchange Act of 1934 during the preceding 12 months (or for such shorter period that the registrant was required to file such reports), and (2) has been subject to such filing requirements for the past 90 days. Yes :selected: :unselected: No\\nIndicate by check mark whether the registrant has submitted electronically every Interactive Data File required to be submitted pursuant to Rule 405 of Regulation S-T (§232.405 of this chapter) during the preceding 12 months (or for such shorter period that the registrant was required to submit such files). Yes :selected: :unselected: No\\nIndicate by check mark whether the registrant is a large accelerated filer, an accelerated filer, a non-accelerated filer, a smaller reporting company, or an emerging growth company. See the definitions of \"large accelerated filer,\" \"accelerated filer,\" \"smaller reporting company,\" and \"emerging growth company\" in Rule 12b-2 of the Exchange Act. :selected: Large accelerated filer :unselected: Accelerated filer\\nNon-accelerated filer :unselected: :unselected: Smaller reporting company :unselected: Emerging growth company\\nIf an emerging growth company, indicate by check mark if the registrant has elected not to use the extended transition period for complying with any new or revised financial accounting standards provided pursuant to Section 13(a) of the Exchange Act. :unselected: Indicate by check mark whether the registrant is a shell company (as defined in Rule 12b-2 of the Exchange Act). :unselected: Yes :selected: No\\nIndicate the number of shares outstanding of each of the issuer\\'s classes of common stock, as of the latest practicable date.\\nClass\\nOutstanding as of April 24, 2020\\nCommon Stock, $0.00000625 par value per share\\n7,583,440,247 shares'"
      ]
     },
     "execution_count": 4,
     "metadata": {},
     "output_type": "execute_result"
    }
   ],
   "execution_count": 4
  },
  {
   "metadata": {},
   "cell_type": "code",
   "outputs": [],
   "execution_count": null,
   "source": "",
   "id": "8a1588865e0a03d5"
  }
 ],
 "metadata": {
  "kernelspec": {
   "display_name": "Python 3",
   "language": "python",
   "name": "python3"
  },
  "language_info": {
   "codemirror_mode": {
    "name": "ipython",
    "version": 2
   },
   "file_extension": ".py",
   "mimetype": "text/x-python",
   "name": "python",
   "nbconvert_exporter": "python",
   "pygments_lexer": "ipython2",
   "version": "2.7.6"
  }
 },
 "nbformat": 4,
 "nbformat_minor": 5
}
